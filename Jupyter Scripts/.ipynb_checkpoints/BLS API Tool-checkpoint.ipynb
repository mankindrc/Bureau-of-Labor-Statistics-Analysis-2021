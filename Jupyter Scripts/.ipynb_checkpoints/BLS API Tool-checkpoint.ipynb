{
 "cells": [
  {
   "cell_type": "markdown",
   "id": "391b0654",
   "metadata": {},
   "source": [
    "<h4>You''ll need to create your own series IDs for this. Make sure to add series IDs into the requests.post URL as well<h4>"
   ]
  },
  {
   "cell_type": "code",
   "execution_count": 25,
   "id": "81929332",
   "metadata": {
    "scrolled": true
   },
   "outputs": [
    {
     "name": "stdout",
     "output_type": "stream",
     "text": [
      "{'status': 'REQUEST_SUCCEEDED', 'responseTime': 250, 'message': [], 'Results': {'series': [{'seriesID': 'WMU00000001020000002910712500', 'catalog': {'series_title': 'Average hourly wage for full-time physician assistants in the U.S.', 'series_id': 'WMU00000001020000002910712500', 'seasonality': 'Not Seasonally Adjusted', 'survey_name': 'Modeled Wage Estimates', 'survey_abbreviation': 'WM', 'measure_data_type': 'Average Hourly Wage', 'commerce_industry': 'All industries', 'occupation': 'Physician assistants', 'occupation_work_class': 'Civilian workers', 'area': 'National'}, 'data': [{'year': '2020', 'period': 'A01', 'periodName': 'Annual', 'latest': 'true', 'value': '55.45', 'aspects': [{'name': 'Relative Standard Error', 'value': '1.0', 'footnotes': [{}]}], 'footnotes': [{}]}]}, {'seriesID': 'WMU00000001020000002911712500', 'catalog': {'series_title': 'Average hourly wage for full-time nurse practitioners in the U.S.', 'series_id': 'WMU00000001020000002911712500', 'seasonality': 'Not Seasonally Adjusted', 'survey_name': 'Modeled Wage Estimates', 'survey_abbreviation': 'WM', 'measure_data_type': 'Average Hourly Wage', 'commerce_industry': 'All industries', 'occupation': 'Nurse practitioners', 'occupation_work_class': 'Civilian workers', 'area': 'National'}, 'data': [{'year': '2020', 'period': 'A01', 'periodName': 'Annual', 'latest': 'true', 'value': '54.24', 'aspects': [{'name': 'Relative Standard Error', 'value': '1.2', 'footnotes': [{}]}], 'footnotes': [{}]}]}, {'seriesID': 'WMU00000001020000002912152500', 'catalog': {'series_title': 'Average hourly wage for full-time family medicine physicians in the U.S.', 'series_id': 'WMU00000001020000002912152500', 'seasonality': 'Not Seasonally Adjusted', 'survey_name': 'Modeled Wage Estimates', 'survey_abbreviation': 'WM', 'measure_data_type': 'Average Hourly Wage', 'commerce_industry': 'All industries', 'occupation': 'Family medicine physicians', 'occupation_work_class': 'Civilian workers', 'area': 'National'}, 'data': [{'year': '2020', 'period': 'A01', 'periodName': 'Annual', 'latest': 'true', 'value': '100.68', 'aspects': [{'name': 'Relative Standard Error', 'value': '3.0', 'footnotes': [{}]}], 'footnotes': [{}]}]}, {'seriesID': 'WMU00000001020000002912282500', 'catalog': {'series_title': 'Average hourly wage for full-time physicians, all other; and ophthalmologists, except pediatric in the U.S.', 'series_id': 'WMU00000001020000002912282500', 'seasonality': 'Not Seasonally Adjusted', 'survey_name': 'Modeled Wage Estimates', 'survey_abbreviation': 'WM', 'measure_data_type': 'Average Hourly Wage', 'commerce_industry': 'All industries', 'occupation': 'Physicians, all other; and ophthalmologists, except pediatric', 'occupation_work_class': 'Civilian workers', 'area': 'National'}, 'data': [{'year': '2020', 'period': 'A01', 'periodName': 'Annual', 'latest': 'true', 'value': '101.66', 'aspects': [{'name': 'Relative Standard Error', 'value': '3.2', 'footnotes': [{}]}], 'footnotes': [{}]}]}]}}\n",
      "{'status': 'REQUEST_SUCCEEDED', 'responseTime': 250, 'message': [], 'Results': {'series': [{'seriesID': 'WMU00000001020000002910712500', 'catalog': {'series_title': 'Average hourly wage for full-time physician assistants in the U.S.', 'series_id': 'WMU00000001020000002910712500', 'seasonality': 'Not Seasonally Adjusted', 'survey_name': 'Modeled Wage Estimates', 'survey_abbreviation': 'WM', 'measure_data_type': 'Average Hourly Wage', 'commerce_industry': 'All industries', 'occupation': 'Physician assistants', 'occupation_work_class': 'Civilian workers', 'area': 'National'}, 'data': [{'year': '2020', 'period': 'A01', 'periodName': 'Annual', 'latest': 'true', 'value': '55.45', 'aspects': [{'name': 'Relative Standard Error', 'value': '1.0', 'footnotes': [{}]}], 'footnotes': [{}]}]}, {'seriesID': 'WMU00000001020000002911712500', 'catalog': {'series_title': 'Average hourly wage for full-time nurse practitioners in the U.S.', 'series_id': 'WMU00000001020000002911712500', 'seasonality': 'Not Seasonally Adjusted', 'survey_name': 'Modeled Wage Estimates', 'survey_abbreviation': 'WM', 'measure_data_type': 'Average Hourly Wage', 'commerce_industry': 'All industries', 'occupation': 'Nurse practitioners', 'occupation_work_class': 'Civilian workers', 'area': 'National'}, 'data': [{'year': '2020', 'period': 'A01', 'periodName': 'Annual', 'latest': 'true', 'value': '54.24', 'aspects': [{'name': 'Relative Standard Error', 'value': '1.2', 'footnotes': [{}]}], 'footnotes': [{}]}]}, {'seriesID': 'WMU00000001020000002912152500', 'catalog': {'series_title': 'Average hourly wage for full-time family medicine physicians in the U.S.', 'series_id': 'WMU00000001020000002912152500', 'seasonality': 'Not Seasonally Adjusted', 'survey_name': 'Modeled Wage Estimates', 'survey_abbreviation': 'WM', 'measure_data_type': 'Average Hourly Wage', 'commerce_industry': 'All industries', 'occupation': 'Family medicine physicians', 'occupation_work_class': 'Civilian workers', 'area': 'National'}, 'data': [{'year': '2020', 'period': 'A01', 'periodName': 'Annual', 'latest': 'true', 'value': '100.68', 'aspects': [{'name': 'Relative Standard Error', 'value': '3.0', 'footnotes': [{}]}], 'footnotes': [{}]}]}, {'seriesID': 'WMU00000001020000002912282500', 'catalog': {'series_title': 'Average hourly wage for full-time physicians, all other; and ophthalmologists, except pediatric in the U.S.', 'series_id': 'WMU00000001020000002912282500', 'seasonality': 'Not Seasonally Adjusted', 'survey_name': 'Modeled Wage Estimates', 'survey_abbreviation': 'WM', 'measure_data_type': 'Average Hourly Wage', 'commerce_industry': 'All industries', 'occupation': 'Physicians, all other; and ophthalmologists, except pediatric', 'occupation_work_class': 'Civilian workers', 'area': 'National'}, 'data': [{'year': '2020', 'period': 'A01', 'periodName': 'Annual', 'latest': 'true', 'value': '101.66', 'aspects': [{'name': 'Relative Standard Error', 'value': '3.2', 'footnotes': [{}]}], 'footnotes': [{}]}]}]}}\n",
      "{'status': 'REQUEST_SUCCEEDED', 'responseTime': 250, 'message': [], 'Results': {'series': [{'seriesID': 'WMU00000001020000002910712500', 'catalog': {'series_title': 'Average hourly wage for full-time physician assistants in the U.S.', 'series_id': 'WMU00000001020000002910712500', 'seasonality': 'Not Seasonally Adjusted', 'survey_name': 'Modeled Wage Estimates', 'survey_abbreviation': 'WM', 'measure_data_type': 'Average Hourly Wage', 'commerce_industry': 'All industries', 'occupation': 'Physician assistants', 'occupation_work_class': 'Civilian workers', 'area': 'National'}, 'data': [{'year': '2020', 'period': 'A01', 'periodName': 'Annual', 'latest': 'true', 'value': '55.45', 'aspects': [{'name': 'Relative Standard Error', 'value': '1.0', 'footnotes': [{}]}], 'footnotes': [{}]}]}, {'seriesID': 'WMU00000001020000002911712500', 'catalog': {'series_title': 'Average hourly wage for full-time nurse practitioners in the U.S.', 'series_id': 'WMU00000001020000002911712500', 'seasonality': 'Not Seasonally Adjusted', 'survey_name': 'Modeled Wage Estimates', 'survey_abbreviation': 'WM', 'measure_data_type': 'Average Hourly Wage', 'commerce_industry': 'All industries', 'occupation': 'Nurse practitioners', 'occupation_work_class': 'Civilian workers', 'area': 'National'}, 'data': [{'year': '2020', 'period': 'A01', 'periodName': 'Annual', 'latest': 'true', 'value': '54.24', 'aspects': [{'name': 'Relative Standard Error', 'value': '1.2', 'footnotes': [{}]}], 'footnotes': [{}]}]}, {'seriesID': 'WMU00000001020000002912152500', 'catalog': {'series_title': 'Average hourly wage for full-time family medicine physicians in the U.S.', 'series_id': 'WMU00000001020000002912152500', 'seasonality': 'Not Seasonally Adjusted', 'survey_name': 'Modeled Wage Estimates', 'survey_abbreviation': 'WM', 'measure_data_type': 'Average Hourly Wage', 'commerce_industry': 'All industries', 'occupation': 'Family medicine physicians', 'occupation_work_class': 'Civilian workers', 'area': 'National'}, 'data': [{'year': '2020', 'period': 'A01', 'periodName': 'Annual', 'latest': 'true', 'value': '100.68', 'aspects': [{'name': 'Relative Standard Error', 'value': '3.0', 'footnotes': [{}]}], 'footnotes': [{}]}]}, {'seriesID': 'WMU00000001020000002912282500', 'catalog': {'series_title': 'Average hourly wage for full-time physicians, all other; and ophthalmologists, except pediatric in the U.S.', 'series_id': 'WMU00000001020000002912282500', 'seasonality': 'Not Seasonally Adjusted', 'survey_name': 'Modeled Wage Estimates', 'survey_abbreviation': 'WM', 'measure_data_type': 'Average Hourly Wage', 'commerce_industry': 'All industries', 'occupation': 'Physicians, all other; and ophthalmologists, except pediatric', 'occupation_work_class': 'Civilian workers', 'area': 'National'}, 'data': [{'year': '2020', 'period': 'A01', 'periodName': 'Annual', 'latest': 'true', 'value': '101.66', 'aspects': [{'name': 'Relative Standard Error', 'value': '3.2', 'footnotes': [{}]}], 'footnotes': [{}]}]}]}}\n",
      "{'status': 'REQUEST_SUCCEEDED', 'responseTime': 250, 'message': [], 'Results': {'series': [{'seriesID': 'WMU00000001020000002910712500', 'catalog': {'series_title': 'Average hourly wage for full-time physician assistants in the U.S.', 'series_id': 'WMU00000001020000002910712500', 'seasonality': 'Not Seasonally Adjusted', 'survey_name': 'Modeled Wage Estimates', 'survey_abbreviation': 'WM', 'measure_data_type': 'Average Hourly Wage', 'commerce_industry': 'All industries', 'occupation': 'Physician assistants', 'occupation_work_class': 'Civilian workers', 'area': 'National'}, 'data': [{'year': '2020', 'period': 'A01', 'periodName': 'Annual', 'latest': 'true', 'value': '55.45', 'aspects': [{'name': 'Relative Standard Error', 'value': '1.0', 'footnotes': [{}]}], 'footnotes': [{}]}]}, {'seriesID': 'WMU00000001020000002911712500', 'catalog': {'series_title': 'Average hourly wage for full-time nurse practitioners in the U.S.', 'series_id': 'WMU00000001020000002911712500', 'seasonality': 'Not Seasonally Adjusted', 'survey_name': 'Modeled Wage Estimates', 'survey_abbreviation': 'WM', 'measure_data_type': 'Average Hourly Wage', 'commerce_industry': 'All industries', 'occupation': 'Nurse practitioners', 'occupation_work_class': 'Civilian workers', 'area': 'National'}, 'data': [{'year': '2020', 'period': 'A01', 'periodName': 'Annual', 'latest': 'true', 'value': '54.24', 'aspects': [{'name': 'Relative Standard Error', 'value': '1.2', 'footnotes': [{}]}], 'footnotes': [{}]}]}, {'seriesID': 'WMU00000001020000002912152500', 'catalog': {'series_title': 'Average hourly wage for full-time family medicine physicians in the U.S.', 'series_id': 'WMU00000001020000002912152500', 'seasonality': 'Not Seasonally Adjusted', 'survey_name': 'Modeled Wage Estimates', 'survey_abbreviation': 'WM', 'measure_data_type': 'Average Hourly Wage', 'commerce_industry': 'All industries', 'occupation': 'Family medicine physicians', 'occupation_work_class': 'Civilian workers', 'area': 'National'}, 'data': [{'year': '2020', 'period': 'A01', 'periodName': 'Annual', 'latest': 'true', 'value': '100.68', 'aspects': [{'name': 'Relative Standard Error', 'value': '3.0', 'footnotes': [{}]}], 'footnotes': [{}]}]}, {'seriesID': 'WMU00000001020000002912282500', 'catalog': {'series_title': 'Average hourly wage for full-time physicians, all other; and ophthalmologists, except pediatric in the U.S.', 'series_id': 'WMU00000001020000002912282500', 'seasonality': 'Not Seasonally Adjusted', 'survey_name': 'Modeled Wage Estimates', 'survey_abbreviation': 'WM', 'measure_data_type': 'Average Hourly Wage', 'commerce_industry': 'All industries', 'occupation': 'Physicians, all other; and ophthalmologists, except pediatric', 'occupation_work_class': 'Civilian workers', 'area': 'National'}, 'data': [{'year': '2020', 'period': 'A01', 'periodName': 'Annual', 'latest': 'true', 'value': '101.66', 'aspects': [{'name': 'Relative Standard Error', 'value': '3.2', 'footnotes': [{}]}], 'footnotes': [{}]}]}]}}\n"
     ]
    }
   ],
   "source": [
    "import requests\n",
    "import json\n",
    "import pandas as pd\n",
    "headers = {'Content-type': 'application/json'}\n",
    "data = json.dumps({\"seriesid\": [\n",
    "    'WMU00000001020000002910712500', 'WMU00000001020000002911712500',\n",
    "    'WMU00000001020000002912152500','WMU00000001020000002912282500'],\n",
    "    \"startyear\":2020, \n",
    "    \"endyear\":2020, \n",
    "    \"catalog\":True, \n",
    "    \"calculations\":True, \n",
    "    \"annualaverage\":True,\n",
    "    \"aspects\":True,\n",
    "     \"registrationkey\":\"e0b8ddaa67a5440a975093d61ad72e63\"})\n",
    "p = requests.post('https://api.bls.gov/publicAPI/v2/timeseries/data/?registrationkey=e0b8ddaa67a5440a975093d61ad72e63&catalog=true&startyear=2020&endyear=2020&calculations=true &annualaverage=true&aspects=true', \n",
    " data=data, headers=headers)\n",
    "json_data = json.loads(p.text)\n",
    "for series in json_data['Results']['series']:\n",
    " print (json_data)\n"
   ]
  },
  {
   "cell_type": "markdown",
   "id": "3fa1e9b0",
   "metadata": {},
   "source": [
    "<h4>JSON output, use p.json to convert.<h4>"
   ]
  },
  {
   "cell_type": "code",
   "execution_count": 27,
   "id": "d2d2c566",
   "metadata": {
    "scrolled": false
   },
   "outputs": [
    {
     "data": {
      "text/plain": [
       "{'status': 'REQUEST_SUCCEEDED',\n",
       " 'responseTime': 250,\n",
       " 'message': [],\n",
       " 'Results': {'series': [{'seriesID': 'WMU00000001020000002910712500',\n",
       "    'catalog': {'series_title': 'Average hourly wage for full-time physician assistants in the U.S.',\n",
       "     'series_id': 'WMU00000001020000002910712500',\n",
       "     'seasonality': 'Not Seasonally Adjusted',\n",
       "     'survey_name': 'Modeled Wage Estimates',\n",
       "     'survey_abbreviation': 'WM',\n",
       "     'measure_data_type': 'Average Hourly Wage',\n",
       "     'commerce_industry': 'All industries',\n",
       "     'occupation': 'Physician assistants',\n",
       "     'occupation_work_class': 'Civilian workers',\n",
       "     'area': 'National'},\n",
       "    'data': [{'year': '2020',\n",
       "      'period': 'A01',\n",
       "      'periodName': 'Annual',\n",
       "      'latest': 'true',\n",
       "      'value': '55.45',\n",
       "      'aspects': [{'name': 'Relative Standard Error',\n",
       "        'value': '1.0',\n",
       "        'footnotes': [{}]}],\n",
       "      'footnotes': [{}]}]},\n",
       "   {'seriesID': 'WMU00000001020000002911712500',\n",
       "    'catalog': {'series_title': 'Average hourly wage for full-time nurse practitioners in the U.S.',\n",
       "     'series_id': 'WMU00000001020000002911712500',\n",
       "     'seasonality': 'Not Seasonally Adjusted',\n",
       "     'survey_name': 'Modeled Wage Estimates',\n",
       "     'survey_abbreviation': 'WM',\n",
       "     'measure_data_type': 'Average Hourly Wage',\n",
       "     'commerce_industry': 'All industries',\n",
       "     'occupation': 'Nurse practitioners',\n",
       "     'occupation_work_class': 'Civilian workers',\n",
       "     'area': 'National'},\n",
       "    'data': [{'year': '2020',\n",
       "      'period': 'A01',\n",
       "      'periodName': 'Annual',\n",
       "      'latest': 'true',\n",
       "      'value': '54.24',\n",
       "      'aspects': [{'name': 'Relative Standard Error',\n",
       "        'value': '1.2',\n",
       "        'footnotes': [{}]}],\n",
       "      'footnotes': [{}]}]},\n",
       "   {'seriesID': 'WMU00000001020000002912152500',\n",
       "    'catalog': {'series_title': 'Average hourly wage for full-time family medicine physicians in the U.S.',\n",
       "     'series_id': 'WMU00000001020000002912152500',\n",
       "     'seasonality': 'Not Seasonally Adjusted',\n",
       "     'survey_name': 'Modeled Wage Estimates',\n",
       "     'survey_abbreviation': 'WM',\n",
       "     'measure_data_type': 'Average Hourly Wage',\n",
       "     'commerce_industry': 'All industries',\n",
       "     'occupation': 'Family medicine physicians',\n",
       "     'occupation_work_class': 'Civilian workers',\n",
       "     'area': 'National'},\n",
       "    'data': [{'year': '2020',\n",
       "      'period': 'A01',\n",
       "      'periodName': 'Annual',\n",
       "      'latest': 'true',\n",
       "      'value': '100.68',\n",
       "      'aspects': [{'name': 'Relative Standard Error',\n",
       "        'value': '3.0',\n",
       "        'footnotes': [{}]}],\n",
       "      'footnotes': [{}]}]},\n",
       "   {'seriesID': 'WMU00000001020000002912282500',\n",
       "    'catalog': {'series_title': 'Average hourly wage for full-time physicians, all other; and ophthalmologists, except pediatric in the U.S.',\n",
       "     'series_id': 'WMU00000001020000002912282500',\n",
       "     'seasonality': 'Not Seasonally Adjusted',\n",
       "     'survey_name': 'Modeled Wage Estimates',\n",
       "     'survey_abbreviation': 'WM',\n",
       "     'measure_data_type': 'Average Hourly Wage',\n",
       "     'commerce_industry': 'All industries',\n",
       "     'occupation': 'Physicians, all other; and ophthalmologists, except pediatric',\n",
       "     'occupation_work_class': 'Civilian workers',\n",
       "     'area': 'National'},\n",
       "    'data': [{'year': '2020',\n",
       "      'period': 'A01',\n",
       "      'periodName': 'Annual',\n",
       "      'latest': 'true',\n",
       "      'value': '101.66',\n",
       "      'aspects': [{'name': 'Relative Standard Error',\n",
       "        'value': '3.2',\n",
       "        'footnotes': [{}]}],\n",
       "      'footnotes': [{}]}]}]}}"
      ]
     },
     "execution_count": 27,
     "metadata": {},
     "output_type": "execute_result"
    }
   ],
   "source": [
    "p.json()"
   ]
  },
  {
   "cell_type": "code",
   "execution_count": 1,
   "id": "38966663",
   "metadata": {},
   "outputs": [],
   "source": [
    "# may need to remove up to 'results' at start of json output. remember to move curly bracket at bottom as well."
   ]
  },
  {
   "cell_type": "code",
   "execution_count": null,
   "id": "71eea509",
   "metadata": {},
   "outputs": [],
   "source": []
  }
 ],
 "metadata": {
  "kernelspec": {
   "display_name": "Python 3 (ipykernel)",
   "language": "python",
   "name": "python3"
  },
  "language_info": {
   "codemirror_mode": {
    "name": "ipython",
    "version": 3
   },
   "file_extension": ".py",
   "mimetype": "text/x-python",
   "name": "python",
   "nbconvert_exporter": "python",
   "pygments_lexer": "ipython3",
   "version": "3.9.7"
  }
 },
 "nbformat": 4,
 "nbformat_minor": 5
}
