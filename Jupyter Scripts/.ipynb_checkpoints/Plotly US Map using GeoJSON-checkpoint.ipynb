{
 "cells": [
  {
   "cell_type": "code",
   "execution_count": 32,
   "id": "e4ecb671",
   "metadata": {},
   "outputs": [],
   "source": [
    "import json\n",
    "import pandas as pd\n",
    "import plotly.express as px"
   ]
  },
  {
   "cell_type": "code",
   "execution_count": 39,
   "id": "caa6097a",
   "metadata": {},
   "outputs": [],
   "source": [
    "import plotly.io as pio\n",
    "pio.renderers.default = 'browser'"
   ]
  },
  {
   "cell_type": "markdown",
   "id": "226d4f40",
   "metadata": {},
   "source": [
    "<h4>Create an object for state GeoJSON data<h4>"
   ]
  },
  {
   "cell_type": "code",
   "execution_count": 19,
   "id": "290ba49b",
   "metadata": {},
   "outputs": [],
   "source": [
    "us_states = json.load(open(\"us_states.json\", 'r'))"
   ]
  },
  {
   "cell_type": "markdown",
   "id": "66a27c93",
   "metadata": {},
   "source": [
    "<h4>Create loop linking GeoJSON to dataframe<h4>"
   ]
  },
  {
   "cell_type": "code",
   "execution_count": 26,
   "id": "2e7b34e5",
   "metadata": {},
   "outputs": [],
   "source": [
    "state_id_map = {}\n",
    "for feature in us_states['features']:\n",
    "    feature['id'] = feature['properties']['STATE']\n",
    "    state_id_map[feature['properties']['NAME']] = feature['id']"
   ]
  },
  {
   "cell_type": "markdown",
   "id": "93c7d123",
   "metadata": {},
   "source": [
    "<h4>Create dataframe, set 'id' to column corresponding to GeoJSON. In this case, 'area_title' is state name.<h4>"
   ]
  },
  {
   "cell_type": "code",
   "execution_count": 148,
   "id": "9a36f8f5",
   "metadata": {},
   "outputs": [],
   "source": [
    "df = pd.read_csv(r\"C:\\Users\\robbi\\Documents\\Work\\Python Scripts\\statecsv.csv\")\n",
    "df['id'] = df['area_title'].apply(lambda x: state_id_map[x])"
   ]
  },
  {
   "cell_type": "markdown",
   "id": "ccf9342c",
   "metadata": {},
   "source": [
    "<h4>Link locations to 'id', GeoJSON to 'us_states' and set color to dimension. Customize and show.<h4>"
   ]
  },
  {
   "cell_type": "code",
   "execution_count": 151,
   "id": "89669264",
   "metadata": {},
   "outputs": [],
   "source": [
    "fig = px.choropleth(df, \n",
    "                    locations='id', \n",
    "                    geojson=us_states,\n",
    "                    color='tot_emp', color_continuous_scale=px.colors.sequential.Purp,\n",
    "                    hover_name='area_title',\n",
    "                    hover_data= ['tot_emp','loc_quotient','h_mean'],\n",
    "                    title='Nurse Practitioners Total Employment 2020')\n",
    "fig.update_geos(\n",
    "    visible=False, resolution=110, scope=\"usa\",\n",
    "    showcountries=True, countrycolor=\"white\",\n",
    "    showsubunits=True, subunitcolor=\"white\"\n",
    ")\n",
    "                              \n",
    "fig.show()"
   ]
  },
  {
   "cell_type": "code",
   "execution_count": null,
   "id": "a8e36ac1",
   "metadata": {},
   "outputs": [],
   "source": []
  }
 ],
 "metadata": {
  "kernelspec": {
   "display_name": "Python 3 (ipykernel)",
   "language": "python",
   "name": "python3"
  },
  "language_info": {
   "codemirror_mode": {
    "name": "ipython",
    "version": 3
   },
   "file_extension": ".py",
   "mimetype": "text/x-python",
   "name": "python",
   "nbconvert_exporter": "python",
   "pygments_lexer": "ipython3",
   "version": "3.9.7"
  }
 },
 "nbformat": 4,
 "nbformat_minor": 5
}
